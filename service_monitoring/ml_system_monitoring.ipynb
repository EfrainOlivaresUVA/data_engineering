{
 "cells": [
  {
   "cell_type": "markdown",
   "metadata": {},
   "source": [
    "## ML System Monitoring\n",
    "### Data Engineering\n",
    "\n",
    "Last updated: July 3, 2022\n",
    "\n",
    "---"
   ]
  },
  {
   "cell_type": "markdown",
   "metadata": {},
   "source": [
    "### Sources\n",
    "\n",
    "- Designing Machine Learning Systems, Chip Huyen\n",
    "\n",
    "---"
   ]
  },
  {
   "cell_type": "markdown",
   "metadata": {},
   "source": [
    "### Concepts\n",
    "\n",
    "- model degradation\n",
    "- monitoring vs observability\n",
    "- software failures vs ML failures\n",
    "- data distribution shifts\n",
    "- edge cases\n",
    "- detecting performance issues\n",
    "- performance monitoring plan"
   ]
  },
  {
   "cell_type": "markdown",
   "metadata": {},
   "source": [
    "---"
   ]
  },
  {
   "cell_type": "markdown",
   "metadata": {},
   "source": [
    "### 1. Model Degradation\n",
    "Model performance inevitably degrades over time in production\n",
    "\n",
    "Several reasons for this, some **software** related and some **ML** related\n",
    "\n",
    "**Software failures** include:  \n",
    "- dependency issue: the software changes, vanishes\n",
    "- deployment issue: wrong version deployed, not deployed to correct machine(s)\n",
    "- hardware issue\n",
    "\n",
    "**ML failures** include:  \n",
    "- training data distribution differs from production (inference) data distribution\n",
    "- edge cases"
   ]
  },
  {
   "cell_type": "markdown",
   "metadata": {},
   "source": [
    "#### Training data distribution differs from production (inference) data distribution"
   ]
  },
  {
   "cell_type": "markdown",
   "metadata": {},
   "source": [
    "ML works well when patterns in data at production time match patterns in data at training time.  \n",
    "This is generalization.\n",
    "\n",
    "Several reasons why this might fail to be the case:\n",
    "\n",
    "- **non-stationarity**: patterns change over time for various reasons:\n",
    "    - major disruption like pandemic\n",
    "    - seasonality\n",
    "    - change in market conditions\n",
    "    - change in strategy\n",
    "    \n",
    "    \n",
    "- **change in feature cardinality**: credit score range changes from 300-850 to 300-830\n",
    "\n",
    "- **bad data** including:\n",
    "  - incorrect inputs\n",
    "  - unexpected data format\n",
    "  - issue with data collection / pipeline  \n",
    " \n",
    "Change is common\n",
    "  \n",
    "Can often be hard to detect as ML issues can faily silently.\n",
    "\n",
    "Often need to run statistical test (e.g., two-sample test) to detect significant change.\n",
    "\n",
    "Popular non-parameteric test: Kolmogorov-Smirov (KS) test of two distributions."
   ]
  },
  {
   "cell_type": "markdown",
   "metadata": {},
   "source": [
    "**Retraining the model**\n",
    "\n",
    "A common practice for dealing w changes in data over time: retrain the model.\n",
    "\n",
    "Alternative terminology: fine tune model, recalibrate model\n",
    "\n",
    "This keeps architecture and features the same but changes the data\n",
    "\n",
    "Some considerations when retraining:\n",
    "\n",
    "- what time period to use? \n",
    "\n",
    "- expanding or sliding window?\n",
    "  \n",
    "- how often to retrain?\n",
    "\n",
    "Run tests to decide"
   ]
  },
  {
   "cell_type": "markdown",
   "metadata": {},
   "source": [
    "#### Edge Cases"
   ]
  },
  {
   "cell_type": "markdown",
   "metadata": {},
   "source": [
    "This is situation where model performs poorly.\n",
    "\n",
    "Example: Model trained on financial data when interest rates were always positive.  \n",
    "In production, it is fed negative interest rates. This might produce poor results.\n",
    "\n",
    "**Helps to include edge cases in training data to make more robust.**"
   ]
  },
  {
   "cell_type": "markdown",
   "metadata": {},
   "source": [
    "---"
   ]
  },
  {
   "cell_type": "markdown",
   "metadata": {},
   "source": [
    "### 2. Monitoring and Observability"
   ]
  },
  {
   "cell_type": "markdown",
   "metadata": {},
   "source": [
    "*Monitoring* refers to the act of tracking, measuring and logging different metrics to help determine when something goes wrong.\n",
    "\n",
    "*Observability* refers to setting up the system so that users have **visibility into the system** to determine when something goes wrong and where it happened. An example would be logging all events in the system as it runs. Sometimes called *instrumentation*.\n",
    "\n",
    "Observability should allow drill down. For example: "
   ]
  },
  {
   "cell_type": "markdown",
   "metadata": {},
   "source": [
    "#### What Should be Monitored?\n",
    "\n",
    "**Operational Metrics**  \n",
    "Examples may include:\n",
    "- latency: time elapsed between request and returned answer\n",
    "- throughput: amount of data processed over given period\n",
    "- CPU/GPU utilization\n",
    "- memory utilization\n",
    "- number of prediction requests received over given period\n",
    "- uptime: percent of time that system is available to offer reasonable performance\n",
    "\n",
    "Uptime example: At one time AWS EC2 offered monthly uptime percentage of at least 99.99% (four nines).\n",
    "If the monthly uptime percentage fell below this level, they would give a credit.\n",
    "\n",
    "**ML-Specific Metrics**  \n",
    "Broad categories to monitor:\n",
    "- model accuracy (very important)\n",
    "- predictions (very important)\n",
    "- features\n",
    "- raw inputs\n",
    "\n",
    "Since model degradation is the focus, it's most important to monitor model accuracy and predictions.  \n",
    "Features may change in distribution, but if the model continues to perform well, this is not concerning."
   ]
  },
  {
   "cell_type": "markdown",
   "metadata": {},
   "source": [
    "For monitoring **model accuracy**, examples include:\n",
    "- accuracy\n",
    "- F1 score\n",
    "- area under the ROC curve"
   ]
  },
  {
   "cell_type": "markdown",
   "metadata": {},
   "source": [
    "For **monitoring predictions**, examples include:\n",
    "- any invalid predicted probabilities: less than 0 or greater than 1?\n",
    "- have all predictions over some period of time been identical? this would be worrisome.\n",
    "- Run test cases with known answer. Does the prediction vary over time?"
   ]
  },
  {
   "cell_type": "markdown",
   "metadata": {},
   "source": [
    "For **monitoring features**, examples include:\n",
    "- statistics of each feature (quantiles, median, ...)\n",
    "- do values fall within expected range (for continuous values)\n",
    "- do values fall within predefined set (for discrete values)"
   ]
  },
  {
   "cell_type": "markdown",
   "metadata": {},
   "source": [
    "For monitoring **raw inputs**, examples include:\n",
    "- checking for missing data (example: your system scrapes web pages and the format has changed, returning no data)\n",
    "- checking in invalid data formats (example: your system expects numeric but is capturing text)\n",
    "- data falls outside expected ranges"
   ]
  },
  {
   "cell_type": "markdown",
   "metadata": {},
   "source": [
    "**Visualizations** can be produced over time. These can be helpful for human review and further exploration, but aren't as useful in automated alerting."
   ]
  },
  {
   "cell_type": "markdown",
   "metadata": {},
   "source": [
    "#### Performance Monitoring Plan\n",
    "\n",
    "A **performance monitoring plan** is recommended for each model.  \n",
    "This should be crafted by stakeholders to include:\n",
    "- metrics to monitor\n",
    "- triggers for each metric (e.g., if AUC falls by 10% between review periods, then ALERT)\n",
    "- monitoring frequency\n",
    "- actions to take if ALERT (who does what by when)\n",
    "\n",
    "Oftentimes there are three status levels such as RED/AMBER/GREEN (RAG Status).  \n",
    "Stakeholders would define what each level means and what should be done.\n",
    "\n",
    "Simple Example:\n",
    "\n",
    "| LEVEL      | METRIC | ACTION |\n",
    "| ----------- | ----------- | ----------- |\n",
    "| GREEN      | AUROC>=0.8 | system functioning as expected       |\n",
    "| AMBER   | 0.7<AUROC<0.8 | system not functioning as expected but not critical; retrain the model on new data and monitor closely        |\n",
    "| RED   |  AUROC<=0.7| system not functioning as expected and critical; cease use of model and redevelop. |\n",
    "\n",
    "---"
   ]
  },
  {
   "cell_type": "markdown",
   "metadata": {},
   "source": [
    "### 3. Monitoring Tools"
   ]
  },
  {
   "cell_type": "markdown",
   "metadata": {},
   "source": [
    "We summarize useful monitoring tools:\n",
    "\n",
    "- logs\n",
    "- dashboards\n",
    "-alerts\n"
   ]
  },
  {
   "cell_type": "markdown",
   "metadata": {},
   "source": [
    "**Logs** capture anything of interest. Ideally they include the process ID and metadata to easily track down issues. This can be hard as systems grow complex with multiple microservices running.\n",
    "\n",
    "Can process logs in batch processes to find issues. Spark can be a useful tool\n",
    "\n",
    "Can look for anomalies in real time using a tool like Kafka or Amazon Kinesis.\n",
    "\n",
    "---"
   ]
  },
  {
   "cell_type": "markdown",
   "metadata": {},
   "source": [
    "**Dashboards** can be helpful for visualizing all important metrics in one place. Useful for non-technical audience as well (e.g., executives.\n",
    "\n",
    "Include only important metrics and graphs.\n",
    "\n",
    "Powerful tools include Tableau and Power BI.\n",
    "\n",
    "---"
   ]
  },
  {
   "cell_type": "markdown",
   "metadata": {},
   "source": [
    "**Alerts** are useful for engaging the right people when the system malfunctions.  \n",
    "This was discussed above in the performance monitoring plan.  \n",
    "\n",
    "Alerts consist of:\n",
    "- conditions when to alert (AUC falls by 10%, AUC < 0.8, ...)\n",
    "- who to alert and how (notify MLOps Team by email, Slack, ...)\n",
    "- description of the alert\n",
    "\n",
    "It's important that alerts are accurate.\n",
    "\n",
    "Cloud-provider tools for setting and monitoring alerts include:\n",
    "- Amazon CloudWatch\n",
    "- GCP Cloud Monitoring\n",
    "\n",
    "Some firms create customized jobs that run monitoring\n",
    "\n",
    "---"
   ]
  }
 ],
 "metadata": {
  "kernelspec": {
   "display_name": "Python 3",
   "language": "python",
   "name": "python3"
  },
  "language_info": {
   "codemirror_mode": {
    "name": "ipython",
    "version": 3
   },
   "file_extension": ".py",
   "mimetype": "text/x-python",
   "name": "python",
   "nbconvert_exporter": "python",
   "pygments_lexer": "ipython3",
   "version": "3.7.4"
  }
 },
 "nbformat": 4,
 "nbformat_minor": 5
}
