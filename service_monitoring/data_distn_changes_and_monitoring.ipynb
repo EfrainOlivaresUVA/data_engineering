{
 "cells": [
  {
   "cell_type": "markdown",
   "metadata": {},
   "source": [
    "## Data Engineering\n",
    "## Data Distribution Changes and Monitoring\n",
    "\n",
    "Last updated: July 3, 2022\n",
    "\n",
    "---"
   ]
  },
  {
   "cell_type": "markdown",
   "metadata": {},
   "source": [
    "### Sources\n",
    "\n",
    "- Designing Machine Learning Systems, Chip Huyen\n",
    "\n",
    "---"
   ]
  },
  {
   "cell_type": "markdown",
   "metadata": {},
   "source": [
    "### Concepts\n",
    "\n",
    "- model degradation\n",
    "- monitoring vs observability\n",
    "- software failures vs ML failures\n",
    "- data distribution shifts\n",
    "- edge cases\n",
    "- degenerate feedback loops\n",
    "- detecting performance issues\n",
    "- performance monitoring plan"
   ]
  },
  {
   "cell_type": "markdown",
   "metadata": {},
   "source": [
    "---"
   ]
  },
  {
   "cell_type": "markdown",
   "metadata": {},
   "source": [
    "### 1. Model Degradation\n",
    "Model performance inevitably degrades over time in production\n",
    "\n",
    "Several reasons for this, some **software** related and some **ML** related\n",
    "\n",
    "**Software failures** include:  \n",
    "- dependency issue: the software changes, vanishes\n",
    "- deployment issue: wrong version deployed, not deployed to correct machine(s)\n",
    "- hardware issue\n",
    "\n",
    "**ML failures** include:  \n",
    "- training data distribution differs from production (inference) data distribution\n",
    "- edge cases\n",
    "- degenerate feedback loop"
   ]
  },
  {
   "cell_type": "markdown",
   "metadata": {},
   "source": [
    "#### Training data distribution differs from production (inference) data distribution"
   ]
  },
  {
   "cell_type": "markdown",
   "metadata": {},
   "source": [
    "ML works well when patterns in data at production time match patterns in data at training time.  \n",
    "This is generalization.\n",
    "\n",
    "Several reasons why this might fail to be the case:\n",
    "\n",
    "- **non-stationarity**: patterns change over time for various reasons:\n",
    "    - major disruption like pandemic\n",
    "    - seasonality\n",
    "    - change in market conditions\n",
    "    - change in strategy\n",
    "    \n",
    "Change is common\n",
    "\n",
    "- **bad data** including:\n",
    "  - incorrect inputs\n",
    "  - unexpected data format\n",
    "  - issue with data collection / pipeline  \n",
    "  \n",
    "  \n",
    "  Can often be hard to detect as ML issues can faily silently."
   ]
  },
  {
   "cell_type": "markdown",
   "metadata": {},
   "source": [
    "#### Edge Cases"
   ]
  },
  {
   "cell_type": "markdown",
   "metadata": {},
   "source": [
    "This is situation where model performs poorly.\n",
    "\n",
    "Example: Model trained on financial data when interest rates were always positive.  \n",
    "In production, it is fed negative interest rates. This might produce poor results.\n",
    "\n",
    "**Helps to include edge cases in training data to make more robust.**"
   ]
  },
  {
   "cell_type": "markdown",
   "metadata": {},
   "source": [
    "#### Degenerate Feedback Loop"
   ]
  },
  {
   "cell_type": "code",
   "execution_count": null,
   "metadata": {},
   "outputs": [],
   "source": []
  },
  {
   "cell_type": "markdown",
   "metadata": {},
   "source": [
    "---"
   ]
  },
  {
   "cell_type": "markdown",
   "metadata": {},
   "source": [
    "### 2. Monitoring and Observability"
   ]
  },
  {
   "cell_type": "markdown",
   "metadata": {},
   "source": [
    "*Monitoring* refers to the act of tracking, measuring and logging different metrics to help determine when something goes wrong.\n",
    "\n",
    "*Observability* refers to setting up the system so that users have **visibility into the system** to determine when something goes wrong. An example would be logging all events in the system as it runs."
   ]
  },
  {
   "cell_type": "markdown",
   "metadata": {},
   "source": [
    "#### Detecting Distribution Shifts"
   ]
  },
  {
   "cell_type": "markdown",
   "metadata": {},
   "source": [
    "Can **monitor predictions over time.** Example metrics:\n",
    "- any predicted probabilities < 0 or > 1?\n",
    "- have all predictions over some period of time identical?\n",
    "- Run test cases with known answer. Does the prediction vary over time?"
   ]
  },
  {
   "cell_type": "markdown",
   "metadata": {},
   "source": [
    "Can **monitor specific model-level metrics over time**, which can be used in alert. Example metrics:\n",
    "- accuracy\n",
    "- F1 score\n",
    "- AUC"
   ]
  },
  {
   "cell_type": "markdown",
   "metadata": {},
   "source": [
    "Can **monitor specific feature-level metrics over time**, such as:\n",
    "- statistics of each predictor (quartiles, median, ...)"
   ]
  },
  {
   "cell_type": "markdown",
   "metadata": {},
   "source": [
    "Visualizations can be produced over time at feature level, model level.  \n",
    "These can be helpful for human review, but aren't as useful in automated alert."
   ]
  },
  {
   "cell_type": "markdown",
   "metadata": {},
   "source": [
    "#### Performance Monitoring Plan\n",
    "\n",
    "A **performance monitoring plan** is recommended for each model.  \n",
    "This should be crafted by stakeholders to include:\n",
    "- metrics to monitor\n",
    "- triggers for each metric (e.g., if AUC falls by 10% between review periods, then ALERT)\n",
    "- monitoring frequency\n",
    "- actions to take if ALERT (who does what by when)\n",
    "\n",
    "---"
   ]
  },
  {
   "cell_type": "markdown",
   "metadata": {},
   "source": [
    "### 3. Monitoring Tools"
   ]
  },
  {
   "cell_type": "markdown",
   "metadata": {},
   "source": [
    "monitoring predictions\n",
    "\n"
   ]
  },
  {
   "cell_type": "code",
   "execution_count": null,
   "metadata": {},
   "outputs": [],
   "source": []
  }
 ],
 "metadata": {
  "kernelspec": {
   "display_name": "Python 3",
   "language": "python",
   "name": "python3"
  },
  "language_info": {
   "codemirror_mode": {
    "name": "ipython",
    "version": 3
   },
   "file_extension": ".py",
   "mimetype": "text/x-python",
   "name": "python",
   "nbconvert_exporter": "python",
   "pygments_lexer": "ipython3",
   "version": "3.7.4"
  }
 },
 "nbformat": 4,
 "nbformat_minor": 5
}
