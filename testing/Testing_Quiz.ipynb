{
 "cells": [
  {
   "cell_type": "markdown",
   "id": "997361fc",
   "metadata": {},
   "source": [
    "# Testing Quiz 1"
   ]
  },
  {
   "cell_type": "markdown",
   "id": "b98f7a41",
   "metadata": {},
   "source": [
    "# 1. The Gherkin language is sometimes referred to by it's 3 main keywords. Given-When-Then.  What do they represent?\n",
    "\n",
    "* a) Variables, Function, Result\n",
    "* b) Code, Test, Assert\n",
    "* c) * Context, Event, Outcome\n",
    "* d) Initial conditions, Previous Step, Next step\n",
    "\n",
    "##### The correct answer is c.  One of the goals of the Gherkin language is to help clearly describe test cases.  So the Given-When-Then paradigm means providing the Context or use case that is running (Given), the condition under test, or the action being taken (When), and finally what result or end condition is to be met (Then)."
   ]
  },
  {
   "cell_type": "markdown",
   "id": "8cfd72ca",
   "metadata": {},
   "source": [
    "# 2.  Which of these is an indication that a series is NOT random?\n",
    "\n",
    "* a) A series is repeatable if started with the same `seed` value.\n",
    "* b) A series is weighed, that is for example like a weighed coin that comes up heads 80% of the time\n",
    "* c) You can create a formula so that given a large number of previous values you can predict the next one\n",
    "* d) A series is not infinite, and can be written down, say in a big enough book.\n",
    "\n",
    "##### The correct answer is c.  Randomless is really about the inablity to predict the 'next' value given the previous values.  Computers on the other hand, function because of exactly the opposite reason, a set of conditions (state of registers) has a predictable next step, otherwise they just wouldn't work.  "
   ]
  },
  {
   "cell_type": "markdown",
   "id": "13882c3f",
   "metadata": {},
   "source": [
    "# 3. What is Test Driven Development?\n",
    "\n",
    "* a) The practice of closly cycling between the code/test/refactor activities\n",
    "* b) The practice of writing ALL your tests first\n",
    "* c) The practice of having stakeholders write the tests, engineering makes them work\n",
    "* d) Using tests as the documentation layer for your code\n",
    "\n",
    "##### The correct answer is a: In this viewpoint, Testing is not a separate phase, it's part of the activity of engineering.  So you cycle between writing code, testing, and refactoring."
   ]
  },
  {
   "cell_type": "markdown",
   "id": "cd6593a2",
   "metadata": {},
   "source": [
    "# 4. What is the practice of `refactoring`?\n",
    "\n",
    "* a) It is the re-writing of code once a program is done and you're getting ready for code review\n",
    "* b) It is re-structuring of code from linear to object oriented software\n",
    "* c) It is the coding phase that follows when a test breaks, i.e. coding to fix\n",
    "* d) It is the constant code improvement as you cycle through code-test-refactor, and adds no new functionality\n",
    "\n",
    "##### Answer is d: There are indeed entire volumes written on this subject, but in terms of TDD and everyday programming, it's part of that triad of activities where code improvement happens."
   ]
  },
  {
   "cell_type": "markdown",
   "id": "4ec2db39",
   "metadata": {},
   "source": [
    "# 5. What makes it safe to refactor constantly or ad hoc when you see something that could be improved?\n",
    "\n",
    "* a) It only involves non-feature code so you can't really break anything\n",
    "* b) It touches feature code, but it doesn't ADD new features, it only reorganizes for clarity\n",
    "* c) There are strict rules, delineated in books which show you what you can/should 'refactor'\n",
    "* d) The set of tests insure that the code provides the same functionality, even during refactoring\n",
    "\n",
    "##### The correct answer is d.  Whether you refactor in the tight loop of code-test-refactor, or you do a large refactor near the end, or decide to refactor someone else's code in order to understand and own it, it is the breath and coverage of the tests that guarantee the code keeps working as expected.  That's what gives you the security and freedom to improve the code."
   ]
  },
  {
   "cell_type": "markdown",
   "id": "44c01a0a",
   "metadata": {},
   "source": [
    "# 6. You're asked to work on a new project and you're not familiar with the code base.  The developer is no longer available.  Which sounds like the best strategy given what you do have? (The code, documentation, test suite)\n",
    "\n",
    "* a) * Read the documentation, run the tests, then dig into the code.  Then look to add more tests, or refactor any code that is not clear.\n",
    "* b) Read the code but ignore both documentation and code, as both can be incomplete and out of date.\n",
    "* c) Skim the docs and tests, then deep read the code, but don't change anything until something breaks.\n",
    "* d) Do nothing and follow the axiom \"If it ain't broke don't fix it.\".  Just wait for bug reports, then look at the code to fix them.\n",
    "\n",
    "##### The correct answer is a.  Note that we didn't specify how complete the tests could be, so the reason why this seems the best answer to me is becuase of the active attempt to add new tests and refactor any unclear code.  If you make it a habit to code-test-refactor, this is the best way to become familiar with new code.  "
   ]
  },
  {
   "cell_type": "markdown",
   "id": "f6b403c0",
   "metadata": {},
   "source": [
    "# 7. During code development a common barrier to adding tests is the amount of effort it takes to add them.  What habit best addresses this barrier?\n",
    "\n",
    "* a) always code-test-refactor, once testing supports refactoring you won't know how you did without it\n",
    "* b) write all the tests before you write any code.\n",
    "* c) * learn to set up automation, and do it as a first step when setting up a project.\n",
    "* d) requests tests as requirements using the Gherkin language\n",
    "\n",
    "##### The correct answer is c.  The effect of automating tests as a habit is that it will 'make it so easy to add a test, that you would need a reason NOT to add one'.  That sounds a llittle extreme, and I don't test everything, but when I do think of a test, usually the only reason I leave it out is because it may run too long ( so I put it in a diferent stack of tests), or I realize that there is really no value or goes contrary to what the code should do. "
   ]
  },
  {
   "cell_type": "markdown",
   "id": "10a1a53f",
   "metadata": {},
   "source": [
    "# 8. What is Behavior Driven Development (BDD)?\n",
    "\n",
    "* a) Software development practice focused solely on the effects of software and not it's internal implementation.\n",
    "* b) * Agile software practice encouraging cross team collaboration using a human readable language do describe specific examples of code behavior.\n",
    "* c) Unlike TDD which emphasises tests, BDD replaces testing with much more descritive documentation for requirements.\n",
    "* d) BDD is an alternate and mutually exclusive approach to TDD, where the tests are all written in the Gherkin language.\n",
    "\n",
    "##### The correct answer is b: By team members here, one means other roles beyond engineers.  Stakeholders, QA, or clients can participate in describing the behavior of the software.  BDD also emphasises clear examples that can be read by and understood by all roles, so it leans towards human readable yet executable descriptions, of which Gherkin is a ubuquitous example.  Despite all that, using Gherkin syntax is useful even at the TDD level, and both methodologies are NOT mutually exclusive.\n"
   ]
  },
  {
   "cell_type": "markdown",
   "id": "2150f1b0",
   "metadata": {},
   "source": [
    "# 9. What are some universal and simple aspects to generate tests on pretty much all sofwtare?\n",
    "\n",
    "* a) * Extreme values, unexpected, and different types are a good way to find low lying bugs in most software.\n",
    "* b) Speed, complexity, and resilience (how quicly a system recovers after an error).\n",
    "* c) Any aspect that comes up after inspecting the logs, if something was worth logging it is worth testing.\n",
    "* d) Test repeatablity, same input same result is easy and a must in most all cases.\n",
    "\n",
    "##### The correct answer is a:  Some things seem so obvious or illogical that we just assume they won't happen.  But computers are not logical and they don't 'see' the obvious.  When you consider that input to your program may come from an API, or be run in large batch files with tons of data, the simple things, like `0`, really large numbers, or passing in the letter `d` when you expected a number can lead to unfortunate consequences.  If this happens in production, it means a lot of work just in overhead to track the issue."
   ]
  },
  {
   "cell_type": "markdown",
   "id": "a6a37645",
   "metadata": {},
   "source": [
    "# 10. What is not true about testing Data?\n",
    "\n",
    "* a) We can apply the same aspect of `testing the invariables` just as we do software.\n",
    "* b) Testing data depends solely on generating data sets that apply to the use cases of the software.\n",
    "* c) Data description documents (data dictionaries) are to data as requirements are to software.\n",
    "* d) Automation is just as, if not even more important in testing when it comes to data versus software.\n",
    "\n",
    "##### The correct answer is b.  Generating data to test software really is a test of the software, not the data. What we mean in this course about data testing, is testing, (or we can call it validating), certain aspects of real production data.  Some concepts are useful to borrow from software testing, like testing for invariants, and taking the description of the data as the requirements, and finally, automation is key since typically the data is large, or we want to cotiniously test it as it feeds through the system."
   ]
  }
 ],
 "metadata": {
  "kernelspec": {
   "display_name": "Python 3 (ipykernel)",
   "language": "python",
   "name": "python3"
  },
  "language_info": {
   "codemirror_mode": {
    "name": "ipython",
    "version": 3
   },
   "file_extension": ".py",
   "mimetype": "text/x-python",
   "name": "python",
   "nbconvert_exporter": "python",
   "pygments_lexer": "ipython3",
   "version": "3.7.7"
  }
 },
 "nbformat": 4,
 "nbformat_minor": 5
}
