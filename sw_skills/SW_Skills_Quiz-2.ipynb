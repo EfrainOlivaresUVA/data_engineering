{
 "cells": [
  {
   "cell_type": "markdown",
   "id": "c57c058d",
   "metadata": {},
   "source": [
    "# SW Skills Quiz2"
   ]
  },
  {
   "cell_type": "markdown",
   "id": "e67e9e7f",
   "metadata": {},
   "source": [
    "# 1. When you apply a Design Pattern you ...\n",
    "\n",
    "* a) should apply it exactly as described to insure it works as expected.\n",
    "* b) * should feel free to adapt and tailor the pattern to the specific problem you are addressing\n",
    "* c) only apply it using a language that supports object oriented programming\n",
    "* d) include a header attributing the source as all Design Patterns are licensed\n",
    "\n",
    "##### The correct answer is b) In fact, you hardly ever apply it to the letter.  It's the idea behind the solution that important and it's exact application depends on the specifics of the current problem."
   ]
  },
  {
   "cell_type": "markdown",
   "id": "5af7f724",
   "metadata": {},
   "source": [
    "# 2. Design Patterns\n",
    "\n",
    "* a) Were well established and were a foundation for the practice of Software Engineering from the start\n",
    "* b) Are the embodiment of experience in software design, providing a way to communidate solutions for reuse\n",
    "* c) Were first described in the field of Architecture and applied to the design of living spaces.\n",
    "* d) * b and c\n",
    "\n",
    "##### The correct answer is d) Christopher Alexander's book, The Timeless Way of Building is the original exposition of design patterns.  They are intended to allow Architects to document known solutions and to communicate that experience forward."
   ]
  },
  {
   "cell_type": "markdown",
   "id": "3e1c238f",
   "metadata": {},
   "source": [
    "# 3. The Factory method as described in class...\n",
    "\n",
    "* a) has real utility when expanded and used to create related sets of objects.\n",
    "* b) hides which type of object is built and is a form of encapsulation\n",
    "* c) has no hirarchical relationship between creator and instantiated class\n",
    "* d) All of the above.\n",
    "\n",
    "##### The correct answer is d)  Indeed the independence of the factory class and what it instantiates is what allows it 'assemble' a group of classes.  For example, assembling an algorithm but stubbing out all external dependencies like a database, or the reverse, using pre-determined output to test real connections or hardware.  "
   ]
  },
  {
   "cell_type": "markdown",
   "id": "66894899",
   "metadata": {},
   "source": [
    "# 4. When starting out learning and applying Design Patterns it is important to\n",
    "\n",
    "* a) start only with the design patterns described in the original GOF Design Patterns book.\n",
    "* b) look for every opportunity available to use them to gain experience.\n",
    "* c) * use sparingly, and apply a design pattern only after attempting a simple and direct solution first\n",
    "* d) use multiple design patterns together to get maximum flexibility and adaptability\n",
    "\n",
    "##### The correct answer is c)  Design Patterns help you `see` design and architecture in code.  However, that comes with the danger of looking right past the details of a specific problem.  This leads to having solutions in search for a problem rather than the other way around and results in code bloat or over complex code.  "
   ]
  },
  {
   "cell_type": "markdown",
   "id": "78f760f6",
   "metadata": {},
   "source": [
    "# 5. You want to describe a sequence of database calls but delay execution, and also have each call wait until it's completed before the next one is started. Which design pattern might be useful?\n",
    "\n",
    "* a) Factory\n",
    "* b) Proxy\n",
    "* c) Strategy\n",
    "* d) * Command\n",
    "\n",
    "##### The correct answer is d)  The command pattern allows you to encapsulate execution, linking it in a chain or delaying it.  This also allows you to execute them one by one after certain conditions are met, for example, upon success of the command in front of it.  "
   ]
  },
  {
   "cell_type": "markdown",
   "id": "a989895b",
   "metadata": {},
   "source": [
    "# 6. You want to run a classifier and write results to a database, which is not available.  Which approaches might be useful?\n",
    "\n",
    "* a) Use a Factory pattern and instantiate a MockDB object to replace the RealDB object.\n",
    "* b) Pass a different 'strategy' object wiht a MockDB for your main code to use instead of the RealDB\n",
    "* c) Pass an argument to a Proxy object, which would intercept calls to the RealDB and act like nothing was different.\n",
    "* d) * a and b\n",
    "\n",
    "##### The correct answer is d)  This is a good example of why it's good to consider the entire context and it's forces.  If say for example you only need to stub out a couple of calls, and there is no timing dependency or other behavioral aspects, then the Factory approach is a simple way to replace the RealDB with a simple stub.  However, if your code needs to replicate delays in the timing of the calls, or other real-life effects, then a Proxy would be a better approach since you can add a layer between your calling code and the stubbed out DB.   The Strategy pattern in effect, may be functional, but it puts the test object on an equal footing as the real DB.  It might be applicable if you intended to use many types of DBs and that might justify exposing the inteface to the type of db as an object passed in, but in the simple case of a stub it is overcomplex and out of place."
   ]
  },
  {
   "cell_type": "markdown",
   "id": "ff2713f0",
   "metadata": {},
   "source": [
    "# 7. Which statement is not true about (SRP) and the Interface Segregation Principle (ISP)?\n",
    "\n",
    "* a) * They are one and the same as they are just two forms of encapsulation.\n",
    "* b) Proper application of SRP helps reduce 'side effects' or unexpected consequences in a function call.\n",
    "* c) SRP emphasises single purpose atomic functions, while the ISP is about grouping those atomic functions into related groups.\n",
    "* d) ISP helps you avoid tying software constructs in illogical ways, like the need to instantiate a DB connection if you just want to run a mathematical operation.\n",
    "\n",
    "##### The correct answer is a)  Encapsulation is really more about hiding implementation details.  In both cases, SRP and ISP, may hide details, but they really are more about avoiding side effects and keeping your code untangled."
   ]
  },
  {
   "cell_type": "markdown",
   "id": "982e5fe2",
   "metadata": {},
   "source": [
    "# 8. What language is used in describing Design Patterns?\n",
    "\n",
    "* a) Standard flow chart diagram symbols are used.\n",
    "* b) There is no agreed upon language for describing Design Patterns.\n",
    "* c) GOF, the Graphical Object Font\n",
    "* d) * UML or Universal Modeling Language\n",
    "\n",
    "##### The correct answer is d)  The UML is the language used in the original Design Patterns book, often referred to by as GOF.  GOF is the nickname of the 4 authors, which stands for Gang Of Four."
   ]
  },
  {
   "cell_type": "markdown",
   "id": "564224c8",
   "metadata": {},
   "source": [
    "# 9.  Which of the following is true about `Duck Typing`, i.e. 'if it looks like a duck and acts like a duck...'?\n",
    "\n",
    "* a) * In non-typed languages like python and ruby, the Lipskov Substitution Principle becomes Duck Typing\n",
    "* b) Duck Typing is another name for the Interface Segregation Principle\n",
    "* c) Is the principle that objects that can stand in for each other should have the same parent class.\n",
    "* d) It is identical to the Lipskov Subsitution Principle\n",
    "\n",
    "##### The correct answer is a)  The Lipskov Substitution Principle addresses typed languages, and states that derived objects should be directly substitable with any other object derived from the same parent class.  However, in non-typed languages, what is important is that the interface matches the expected, and that it's behaviour works, but it *doesn't have to be* of the same type."
   ]
  },
  {
   "cell_type": "markdown",
   "id": "fd4e56b4",
   "metadata": {},
   "source": [
    "# 10. The practice of moving common functionality to a base class is an example of which of the SOLID principles?\n",
    "\n",
    "* a) Lipskov Substitution Principle.\n",
    "* b) Single Responsibilty Principle.\n",
    "* c) * Open-Closed Principle\n",
    "* d) Interface Segregation Principle.\n",
    "\n",
    "##### The correct answer is c)  If any change to a derived class triggers a change in the parent class it's an indication that the behavior belongs in the parent class.  "
   ]
  },
  {
   "cell_type": "code",
   "execution_count": 47,
   "id": "bd8d28a7",
   "metadata": {},
   "outputs": [
    {
     "name": "stdout",
     "output_type": "stream",
     "text": [
      "d\r\n"
     ]
    }
   ],
   "source": [
    "! python -c \"import random; print(random.choice(['a','b','c','d']))\""
   ]
  }
 ],
 "metadata": {
  "kernelspec": {
   "display_name": "Python 3 (ipykernel)",
   "language": "python",
   "name": "python3"
  },
  "language_info": {
   "codemirror_mode": {
    "name": "ipython",
    "version": 3
   },
   "file_extension": ".py",
   "mimetype": "text/x-python",
   "name": "python",
   "nbconvert_exporter": "python",
   "pygments_lexer": "ipython3",
   "version": "3.7.7"
  }
 },
 "nbformat": 4,
 "nbformat_minor": 5
}
