{
 "cells": [
  {
   "cell_type": "markdown",
   "id": "d440ad80",
   "metadata": {},
   "source": [
    "# Reading list for Software Skills week 2\n",
    "\n",
    "## TBD\n",
    "* Chapter\n",
    "\n",
    "# Additional Sources\n",
    "* [Clean Code](https://www.amazon.com/Clean-Code-Handbook-Software-Craftsmanship/dp/0132350882/ref=asc_df_0132350882/?tag=hyprod-20&linkCode=df0&hvadid=266005469508&hvpos=&hvnetw=g&hvrand=8773292058464517720&hvpone=&hvptwo=&hvqmt=&hvdev=c&hvdvcmdl=&hvlocint=&hvlocphy=9033511&hvtargid=pla-435472505264&psc=1)\n",
    "* [Agile Software Development](https://www.amazon.com/Software-Development-Principles-Patterns-Practices/dp/0135974445/ref=sr_1_3?crid=2MC2KQJFRJBMA&keywords=agile+software+development&qid=1645596582&s=books&sprefix=agile+software+development%2Cstripbooks%2C148&sr=1-3)\n",
    "* [Code That Fits In Your Head](https://www.amazon.com/Code-That-Fits-Your-Head-ebook/dp/B09D2X43VX/ref=sr_1_1?crid=1MRCIVHOSZLES&keywords=code+that+fits+in+your+head&qid=1645596648&s=books&sprefix=code+that+fits+in+your+head%2Cstripbooks%2C146&sr=1-1)\n",
    "* [Head First Design Patterns](https://www.amazon.com/Head-First-Design-Patterns-Object-Oriented-ebook-dp-B08P3X99QP/dp/B08P3X99QP/ref=mt_other?_encoding=UTF8&me=&qid=)\n",
    "\n",
    "\n",
    "\n",
    "# For those that want to go further\n",
    "* [Original Design Patterns from GOF](https://www.amazon.com/Design-Patterns-Elements-Reusable-Object-Oriented/dp/0201633612/ref=sr_1_4?crid=TLWCK8SWXGDY&keywords=design+patterns+gang+of+four&qid=1645596689&s=books&sprefix=Design+patterns+%2Cstripbooks%2C135&sr=1-4)\n",
    "* [Effective Python](https://www.amazon.com/Effective-Python-Specific-Software-Development-ebook/dp/B07ZG18BH3/ref=sr_1_1?crid=1LC1IIE5FW5LV&keywords=Effective+Python&qid=1645596845&s=digital-text&sprefix=effective+python%2Cdigital-text%2C148&sr=1-1)\n",
    "* [Modern Python Standard Library](https://www.amazon.com/Modern-Python-Standard-Library-Cookbook-ebook/dp/B07C5Q59ZZ/ref=sr_1_2?crid=3NMLE5PO11Z91&keywords=modern+python+standard+library&qid=1645596812&s=digital-text&sprefix=modern+python+standard+library%2Cdigital-text%2C138&sr=1-2)"
   ]
  }
 ],
 "metadata": {
  "kernelspec": {
   "display_name": "Python 3 (ipykernel)",
   "language": "python",
   "name": "python3"
  },
  "language_info": {
   "codemirror_mode": {
    "name": "ipython",
    "version": 3
   },
   "file_extension": ".py",
   "mimetype": "text/x-python",
   "name": "python",
   "nbconvert_exporter": "python",
   "pygments_lexer": "ipython3",
   "version": "3.9.4"
  }
 },
 "nbformat": 4,
 "nbformat_minor": 5
}
