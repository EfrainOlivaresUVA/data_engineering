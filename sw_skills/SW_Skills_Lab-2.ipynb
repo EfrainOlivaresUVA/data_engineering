{
 "cells": [
  {
   "cell_type": "markdown",
   "id": "f33551b4",
   "metadata": {},
   "source": [
    "# Software Skills lab 2: "
   ]
  },
  {
   "cell_type": "markdown",
   "id": "3fc463d4-34a6-46da-898b-63d8637c33b1",
   "metadata": {},
   "source": [
    "# Exploring the Singleton Pattern\n",
    "## Affirm we're getting the same object\n",
    "\n",
    "* Assure yourself that the pattern is doing as expected \n",
    "```\n",
    "  2 class Singleton:\n",
    "  3     def __new__(cls):\n",
    "  4         if not hasattr(cls, 'instance'):\n",
    "  5             cls.instance = super(Singleton, cls).__new__(cls)\n",
    "  6         return cls.instance\n",
    "```  \n",
    "* Make two calls to `Singleton()` stored in variables `a` and `b`.  Now write an `assert` using python's `id` function to insure they are the same object.\n",
    "\n",
    "## Init behavior\n",
    "* Now add an `__init__` function to your Singleton with a print statement\n",
    "* What happens when you run your short script now?  How many print statements show up?\n",
    "\n",
    "## Custom initializer\n",
    "* Now add a function called `init_once` with an adequate print statement to the Singleton class.\n",
    "* Add the function between lines 5 and 6 in the example above, `cls.instance.init_once()`\n",
    "* How many print statements show up from this function show up when you run your script?\n",
    "\n",
    "## Add a reference counter\n",
    "* Add a class level variable between lines 2 and 3 `count = 0`\n",
    "* Now in the `__init__` function increment this counter by 1 and print it's value.\n",
    "* What do you see as the print out as the value of count when you run your script?"
   ]
  },
  {
   "cell_type": "markdown",
   "id": "a774b559-2552-441a-a564-6892a646fe59",
   "metadata": {
    "tags": []
   },
   "source": [
    "# SOLUTION\n",
    "```python\n",
    "class Singleton:\n",
    "    count = 0\n",
    "    def __new__(cls):\n",
    "        if not hasattr(cls, 'instance'):\n",
    "            cls.instance = super(Singleton, cls).__new__(cls)\n",
    "            cls.instance.initialize_once()\n",
    "        return cls.instance\n",
    "\n",
    "    def __init__(self):\n",
    "        self.count += 1\n",
    "        print(self.count)\n",
    "        print(\"INIT\")\n",
    "\n",
    "\n",
    "    def initialize_once(self):\n",
    "        print(\"initialize once\")\n",
    "\n",
    "    def do_something(self):\n",
    "        print(\"do something\")\n",
    "\n",
    "a = Singleton()\n",
    "b = Singleton()\n",
    "\n",
    "assert id(a) == id(b)\n",
    "print(id(a))\n",
    "print(id(b))\n",
    "\n",
    "\n",
    "a.do_something()\n",
    "b.do_something()\n",
    "```\n",
    "## Should print\n",
    "```\n",
    "initialize once\n",
    "1\n",
    "INIT\n",
    "2\n",
    "INIT\n",
    "4470710128\n",
    "4470710128\n",
    "do something\n",
    "do something\n",
    "```"
   ]
  }
 ],
 "metadata": {
  "kernelspec": {
   "display_name": "Python 3 (ipykernel)",
   "language": "python",
   "name": "python3"
  },
  "language_info": {
   "codemirror_mode": {
    "name": "ipython",
    "version": 3
   },
   "file_extension": ".py",
   "mimetype": "text/x-python",
   "name": "python",
   "nbconvert_exporter": "python",
   "pygments_lexer": "ipython3",
   "version": "3.7.7"
  }
 },
 "nbformat": 4,
 "nbformat_minor": 5
}
