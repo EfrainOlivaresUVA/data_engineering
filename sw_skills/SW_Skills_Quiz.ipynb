{
 "cells": [
  {
   "cell_type": "markdown",
   "id": "2601a28d",
   "metadata": {},
   "source": [
    "# SW Skills Quiz"
   ]
  },
  {
   "cell_type": "markdown",
   "id": "e67e9e7f",
   "metadata": {},
   "source": [
    "# 1. What is Eagleson's law about\n",
    "\n",
    "* a) Code complexity increases exponentialy per line of code\n",
    "* b) * After six months, it will be hard to read your own code without clear hints left behind.\n",
    "* c) The speed of computers doubles every two years, so code complexity also doubles every two years.\n",
    "* d) Reading someone else's code every six months helps you develop as a programmer.\n",
    "\n",
    "##### The correct answer is b) Any Code Of Your Own That You Haven't Looked At For Six Or More Months, Might As Well Have Been Written By Someone Else."
   ]
  },
  {
   "cell_type": "markdown",
   "id": "5af7f724",
   "metadata": {},
   "source": [
    "# 2. Cognitive load is \n",
    "\n",
    "* a) A measure of the complexity inherent in a piece of code in order to make it function\n",
    "* b) * the amount of information that working memory can hold at one time\n",
    "* c) related to the amount of time it took to write a piece of code.\n",
    "* d) related to how much effort a CPU will expend in running a piece of code\n",
    "\n",
    "##### The correct answer is b) The more our mind has to 'hold' different details like the names of variables, spacing, comments, and formatting, the less capacity is left to focus on the intent and content of a piece of code."
   ]
  },
  {
   "cell_type": "markdown",
   "id": "3e1c238f",
   "metadata": {},
   "source": [
    "# 3. A python assert is\n",
    "\n",
    "* a) Can only be used in unit tests\n",
    "* b) Only execute when a linter or test program is run on your code.\n",
    "* c) * Helps clarify intent, type enforcement, or halt the code when a known bad condition arises.\n",
    "* d) Help test code, but come at the expense of readablity because they clutter the code.\n",
    "\n",
    "##### The correct answer is c)  Asserts can be inserted anywhere in your code, only marginally affect speed, and can be used in a variety of ways to improve code quality."
   ]
  },
  {
   "cell_type": "markdown",
   "id": "66894899",
   "metadata": {},
   "source": [
    "# 4. How is an assert different from an Exception?\n",
    "\n",
    "* a) Asserts are for tests, Exceptions are intended to execute at runtime.\n",
    "* b) Asserts fail silently, whereas with Exceptions you can add custom message.\n",
    "* c) * Exceptions provide a way to fail and recover, while asserts are fail only\n",
    "* d) Asserts can't be used inside a block, they have to be at global level\n",
    "\n",
    "##### The correct answer is c)  Asserts give you an easy 'one-liner' way to add validation.  Exceptions are more intrusive, but have a lot of features like allowing you to recover, call other code on fail, and you can even write your own Exceptions by subclassing the Exception class."
   ]
  },
  {
   "cell_type": "markdown",
   "id": "78f760f6",
   "metadata": {},
   "source": [
    "# 5. The gist of Encapsulation is\n",
    "\n",
    "* a) Writing all your code in one file, so your bugs are 'encapsulated' and easier to find.\n",
    "* b) * Hiding data and methods used by lower functions from users of your code so as to reduce outward compexity.\n",
    "* c) Use a descriptive function name that accurately reflects what a function does.\n",
    "* d) about breaking up your code so no function is longer than 10 lines\n",
    "\n",
    "##### The correct answer is b)  Mostly associated with OOP, where you hide data and methods a high level user doesn't need to know.  However, i'ts an open somewhat to interpretation of you can do the same with methods, especially once you introduce inner methods."
   ]
  },
  {
   "cell_type": "markdown",
   "id": "a989895b",
   "metadata": {},
   "source": [
    "# 6. Which of the following is true about logging\n",
    "\n",
    "* a) * Python makes it easy to set it up.\n",
    "* b) You have to log everything or nothing, like the print function, but it's advantage is that it goes to a file\n",
    "* c) Is only useful after a program is complete, to give insight when it fails after a program is released.\n",
    "* d) Is really only useful for very large programs\n",
    "\n",
    "##### The correct answer is a)  Logging allows you control of how verbose it is, and is useful during development since you can add more detail without cluttering your console.  Although usually used in larger programs, even small scripts benefit from the practice"
   ]
  },
  {
   "cell_type": "markdown",
   "id": "ff2713f0",
   "metadata": {},
   "source": [
    "# 7. What is a design pattern?\n",
    "\n",
    "* a) The process of writing code using a checklist, so you always go through the same successful pattern.\n",
    "* b) A cookie cutter approach to writing code.\n",
    "* c) * It is a general, reusable solution to a commonly occurring problem within a given context\n",
    "* d) A feature in OOP languages, also known as inheritance allowing derived objects reuse a solution.\n",
    "\n",
    "##### The correct answer is c)  A design pattern is a known solution in a given context.  It does not need to be expressed as OOP, in fact it can even be applied in non object oriented languages.  They originally came from the field of Architecture, (The Timeless way of Building, Christofer Alexander), as it applied to reusable patterns of building structures given how the structure would be used.  This is what gives a library a different feel than a church, or a stadium from a movie theater."
   ]
  },
  {
   "cell_type": "markdown",
   "id": "982e5fe2",
   "metadata": {},
   "source": [
    "# 8. Which of these is not one of the SOLID principles?\n",
    "\n",
    "* a) Single Responsibility Principle.\n",
    "* b) Interface Segregation Principle\n",
    "* c) Open Closed Principle\n",
    "* d) * Lagrange Principle \n",
    "\n",
    "##### The correct answer is d)  The Lagrange Principle comes from the field of mathematics.  However, the Liskov Subsitution Principle is the L in SOLID, and states that any derived class, should be able to replace the use intended by the parent class."
   ]
  },
  {
   "cell_type": "markdown",
   "id": "564224c8",
   "metadata": {},
   "source": [
    "# 9. What design pattern helps you insure you create only ONE of something, like a database connection.\n",
    "\n",
    "* a) * Singleton\n",
    "* b) Template\n",
    "* c) Proxy\n",
    "* d) Factory \n",
    "\n",
    "##### The correct answer is a)  The Singleton pattern describes how an object can manage a resource, db connection for example, and manage when it's created.  This allows a user to instantiate any number of objects, and make multiple calls while only opening and maintaining one single connection.  This helps reduce overhead starting and stopping connections for example."
   ]
  },
  {
   "cell_type": "markdown",
   "id": "fd4e56b4",
   "metadata": {},
   "source": [
    "# 10. Which of these is NOT an advantage to partitioning your scripts into a linux bin/lib/test/vendor set of directories?\n",
    "\n",
    "* a) It reduces clutter allowing for easy to find libraries, tests, and external scripts.\n",
    "* b) It is easier to isolate files for exclusion from git if they are logically grouped.\n",
    "* c) It's easier to understand someone else's code if you have some architecture to start with\n",
    "* d) Inclusion of packages is automatic in your main script if you use the folder structure.\n",
    "\n",
    "##### The correct answer is d)  Unfortunately, the organization does come at the price of having to make your code aware of the organization for imports.  However, the time saved when working in a collaborative environment, or looking up test most always pays off in all but the smallest of projects."
   ]
  },
  {
   "cell_type": "code",
   "execution_count": 47,
   "id": "bd8d28a7",
   "metadata": {},
   "outputs": [
    {
     "name": "stdout",
     "output_type": "stream",
     "text": [
      "d\r\n"
     ]
    }
   ],
   "source": [
    "! python -c \"import random; print(random.choice(['a','b','c','d']))\""
   ]
  }
 ],
 "metadata": {
  "kernelspec": {
   "display_name": "Python 3 (ipykernel)",
   "language": "python",
   "name": "python3"
  },
  "language_info": {
   "codemirror_mode": {
    "name": "ipython",
    "version": 3
   },
   "file_extension": ".py",
   "mimetype": "text/x-python",
   "name": "python",
   "nbconvert_exporter": "python",
   "pygments_lexer": "ipython3",
   "version": "3.9.4"
  }
 },
 "nbformat": 4,
 "nbformat_minor": 5
}
