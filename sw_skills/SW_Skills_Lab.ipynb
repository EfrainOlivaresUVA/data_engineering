{
 "cells": [
  {
   "cell_type": "markdown",
   "id": "f33551b4",
   "metadata": {},
   "source": [
    "# Software Skills lab: \n",
    "## In this lab you will create reusable functions in a library to be shared\n",
    "\n",
    "### A sample \n",
    "* Use the \n",
    "\n"
   ]
  },
  {
   "cell_type": "markdown",
   "id": "01075669",
   "metadata": {},
   "source": [
    "# Software Skills lab: \n",
    "## In this lab you will set up a linter in an existing github repo and dial in settings\n",
    "\n",
    "### A sample \n",
    "* Use the \n",
    "\n"
   ]
  },
  {
   "cell_type": "markdown",
   "id": "b772c632",
   "metadata": {},
   "source": [
    "# Software Skills lab: \n",
    "## In this lab you will write a small program exercising\n",
    "* asserts\n",
    "* logging\n",
    "* using functions instead of comments\n",
    "* an example of encapsulation\n",
    "\n",
    "### A sample \n",
    "* Use the \n",
    "\n"
   ]
  }
 ],
 "metadata": {
  "kernelspec": {
   "display_name": "Python 3 (ipykernel)",
   "language": "python",
   "name": "python3"
  },
  "language_info": {
   "codemirror_mode": {
    "name": "ipython",
    "version": 3
   },
   "file_extension": ".py",
   "mimetype": "text/x-python",
   "name": "python",
   "nbconvert_exporter": "python",
   "pygments_lexer": "ipython3",
   "version": "3.9.4"
  }
 },
 "nbformat": 4,
 "nbformat_minor": 5
}
