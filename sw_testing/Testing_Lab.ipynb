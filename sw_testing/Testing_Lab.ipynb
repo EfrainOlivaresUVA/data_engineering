{
 "cells": [
  {
   "cell_type": "markdown",
   "id": "67697a9b",
   "metadata": {},
   "source": [
    "# Testing Lab\n",
    "\n",
    "## In this Lab you will create a module that has 3 layers, combining 3 different behaviours into one file.\n",
    "### The purpose of the lab is to incoporate testing as part of the process of development.  In smaller single file scripts it is often easier to just include tests inline.  The tests can co-exist with the code with out interfering, and we can run the script as a standalone for manual testing too.\n",
    "1. The file will work as a module that can be imported into a project\n",
    "2. The file will have tests that only activate when run with pytest and verify the code in the file\n",
    "3. The file will run when called directly\n",
    "\n",
    "## Description\n",
    "We'll use a singleton class connecting to a fake database.  The purpose of the 3 layered architecture in combination with the singleton is the following.\n",
    "\n",
    "1. Multiple imports of the file will not trigger a re-connection to the database\n",
    "2. Running `pytest <module-name>` will result in only the tests triggering to verify the function(s) inside it\n",
    "3. Running `python <module-name>` will give you an open connection to the database\n"
   ]
  },
  {
   "cell_type": "markdown",
   "id": "2d692be7-d7e6-4bc2-90cc-d1c7f6a944b3",
   "metadata": {},
   "source": [
    "### For this Lab you'll start with the template `db_template.py` which should have the frame of what we're building.  \n",
    "We'll be using sqlite3, since it's already included in python and thus there is no installation to be done.\n",
    "\n",
    "You'll have the shell of a Singleton class to use as a database connector, and guiding comments as to how to fill in the code slots needed.\n",
    "\n",
    "The emphasis is less about generating something grand, but more to focus on the interplay between the three sections of the file.\n",
    "* The shareable module\n",
    "* The executable tests that are only used by pytest\n",
    "* Using the module standalone in order to explore the sqlite database\n"
   ]
  },
  {
   "cell_type": "markdown",
   "id": "37881fef-3f83-4daa-8d10-47be3158eb36",
   "metadata": {},
   "source": [
    "## Part 1 The singleton class\n",
    "This part should be relatively straight forward.   Just like we went over in class.\n",
    "The only addition is a function that will get a cursor to the sqlite3 db if it's been initialized.\n",
    "\n",
    "This one function will allow all objects to suddenly connect then the db is ready."
   ]
  },
  {
   "cell_type": "markdown",
   "id": "eac3c9ba-f807-474a-9c23-d33f71d20c74",
   "metadata": {},
   "source": [
    "## Part 1.1 A few helper functions to clear and init the database\n",
    "The Singleton class is only responsible for connecting and allowing the passing of sql commands.   Generally, some other resource, most likely external to your control, will handle the database initialization.  So we'll add a couple of helper functions to simulate an initialized db, and also to clear and reset so we can test."
   ]
  },
  {
   "cell_type": "markdown",
   "id": "66fbac42-b2f9-4431-8218-3965954d78c1",
   "metadata": {},
   "source": [
    "## Part 2 Adding some tests.\n",
    "In the mid section, we have some slots to add tests for verifying the behaviour of the Singleton, as before.  But we also add two simple but important scenarios\n",
    "* Starting the singleton after the db is intialized\n",
    "* Starting the singleton before the db is initialized\n",
    "* Starting two singletons, before the db is initialized, which means they won't work becase they won't have a valid cursor (connection).  However, all it takes is one of the objects to connect, to make both of them work."
   ]
  },
  {
   "cell_type": "markdown",
   "id": "7ce1af24-889c-4453-ae17-5857a4e88ec8",
   "metadata": {},
   "source": [
    "## Part 3 Adding an `if __name__==\"__main__\":` section to script\n",
    "This will allow for both using the script standalone to inspect a sqlite database, but also can be used to explore or do some exploratory testing"
   ]
  }
 ],
 "metadata": {
  "kernelspec": {
   "display_name": "Python 3 (ipykernel)",
   "language": "python",
   "name": "python3"
  },
  "language_info": {
   "codemirror_mode": {
    "name": "ipython",
    "version": 3
   },
   "file_extension": ".py",
   "mimetype": "text/x-python",
   "name": "python",
   "nbconvert_exporter": "python",
   "pygments_lexer": "ipython3",
   "version": "3.7.7"
  }
 },
 "nbformat": 4,
 "nbformat_minor": 5
}
