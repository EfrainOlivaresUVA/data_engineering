{
 "cells": [
  {
   "cell_type": "markdown",
   "metadata": {},
   "source": [
    "# Reading list for Software Testing\n",
    "\n",
    "\n",
    "## Test-Driven Machine Learning\n",
    "* Item \n",
    "\n",
    "## Why programs fail : a guide to systematic debugging\n",
    "* Item \n",
    "\n",
    "# Additional Sources\n",
    "* Item \n",
    "\n",
    "\n",
    "\n",
    "# For those that want to go further\n",
    "* Item "
   ]
  }
 ],
 "metadata": {
  "kernelspec": {
   "display_name": "Python 3",
   "language": "python",
   "name": "python3"
  },
  "language_info": {
   "codemirror_mode": {
    "name": "ipython",
    "version": 3
   },
   "file_extension": ".py",
   "mimetype": "text/x-python",
   "name": "python",
   "nbconvert_exporter": "python",
   "pygments_lexer": "ipython3",
   "version": "3.7.4"
  }
 },
 "nbformat": 4,
 "nbformat_minor": 5
}
