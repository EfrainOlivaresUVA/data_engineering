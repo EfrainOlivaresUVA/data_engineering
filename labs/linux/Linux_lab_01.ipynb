{
 "cells": [
  {
   "cell_type": "markdown",
   "metadata": {},
   "source": [
    "# Linux lab 1: In this lab you'll create a small classifier pipeline driven by the command line."
   ]
  },
  {
   "cell_type": "markdown",
   "metadata": {},
   "source": [
    "## Objective: The focus is to create a python script that fits right into the Linux principle model, thus making it easy to interact with the rest of the cli commands"
   ]
  },
  {
   "cell_type": "markdown",
   "metadata": {},
   "source": [
    "## Part 1: Word count mini-pipeline.\n",
    "### Given a directory with raw text files, create a command lines that: \n",
    "* List the files along with the number of words.  \n",
    "* List the files along with the number of lines.\n",
    "* List the files along with the number of words sorted by decreasing number\n",
    "\n",
    "You'll find the `wc` command useful for this."
   ]
  },
  {
   "cell_type": "code",
   "execution_count": 1,
   "metadata": {},
   "outputs": [
    {
     "name": "stdout",
     "output_type": "stream",
     "text": [
      "/bin/bash: dirname: No such file or directory\n",
      "/bin/bash: dirname: No such file or directory\n",
      "/bin/bash: dirname: No such file or directory\n"
     ]
    }
   ],
   "source": [
    "! ls <dirname>*.py | xargs wc -w\n",
    "! ls <dirname>*.py | xargs wc -l\n",
    "! ls  <dirname>*.txt | xargs wc -w | sort -nr"
   ]
  },
  {
   "cell_type": "markdown",
   "metadata": {},
   "source": [
    "## Part 2: Write a python script that takes the place of the word count with any simple classifier (can be a text book example), so the resulting list is a decreasing classification.\n",
    "### You'll need the following requirements for your python script\n",
    "* The script should take the path to a file via stdin, i.e. `myscript <path to file>`\n",
    "* The resulting output should be written to stdout as `NN filename`, i.e. `0.8 file_01.txt`"
   ]
  },
  {
   "cell_type": "markdown",
   "metadata": {},
   "source": [
    "For this exercise I'm assuming we provide a standard small data set, and an out of the box classifier.  So the exercise focuses on wrapping the classifier so that it takes stdin and outputs to stdout.  It can then be put in a command line to classify files in a directory."
   ]
  },
  {
   "cell_type": "code",
   "execution_count": null,
   "metadata": {},
   "outputs": [],
   "source": [
    "ls <path to directory>/*.txt | xargs myclassifier | sort -nr"
   ]
  },
  {
   "cell_type": "markdown",
   "metadata": {},
   "source": [
    "## Next: a short exercise on using python's `json.tool` and/or `jq` to manage json at the command line"
   ]
  }
 ],
 "metadata": {
  "kernelspec": {
   "display_name": "Python 3",
   "language": "python",
   "name": "python3"
  },
  "language_info": {
   "codemirror_mode": {
    "name": "ipython",
    "version": 3
   },
   "file_extension": ".py",
   "mimetype": "text/x-python",
   "name": "python",
   "nbconvert_exporter": "python",
   "pygments_lexer": "ipython3",
   "version": "3.7.4"
  }
 },
 "nbformat": 4,
 "nbformat_minor": 5
}
