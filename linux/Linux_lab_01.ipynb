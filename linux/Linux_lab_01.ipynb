{
 "cells": [
  {
   "cell_type": "markdown",
   "id": "acfd5298",
   "metadata": {},
   "source": [
    "# Linux lab 1: In this lab you'll create a small classifier pipeline driven by the command line."
   ]
  },
  {
   "cell_type": "markdown",
   "id": "6c4a2db4",
   "metadata": {},
   "source": [
    "## Objective: The focus is to create a python script that fits right into the Linux principle model, thus making it easy to interact with the rest of the cli commands"
   ]
  },
  {
   "cell_type": "markdown",
   "id": "81645380",
   "metadata": {},
   "source": [
    "## Part 1: Word count mini-pipeline.\n",
    "### Given a directory with raw text files, create a command lines that: \n",
    "* List the files along with the number of words.  \n",
    "* List the files along with the number of lines.\n",
    "* List the files along with the number of words sorted by decreasing number\n",
    "\n",
    "You'll find the `wc` command useful for this."
   ]
  },
  {
   "cell_type": "code",
   "execution_count": 1,
   "id": "7b7141f3",
   "metadata": {},
   "outputs": [
    {
     "name": "stdout",
     "output_type": "stream",
     "text": [
      "/bin/bash: dirname: No such file or directory\n",
      "/bin/bash: dirname: No such file or directory\n",
      "/bin/bash: dirname: No such file or directory\n"
     ]
    }
   ],
   "source": [
    "! ls <dirname>*.py | xargs wc -w\n",
    "! ls <dirname>*.py | xargs wc -l\n",
    "! ls  <dirname>*.txt | xargs wc -w | sort -nr"
   ]
  },
  {
   "cell_type": "markdown",
   "id": "da2a8dbf",
   "metadata": {},
   "source": [
    "## Part 2: Write a python script that takes the place of the word count with any simple classifier (can be a text book example), so the resulting list is a decreasing classification.\n",
    "### You'll need the following requirements for your python script\n",
    "* The script should take the path to a file via stdin, i.e. `myscript <path to file>`\n",
    "* The resulting output should be written to stdout as `NN filename`, i.e. `0.8 file_01.txt`"
   ]
  },
  {
   "cell_type": "markdown",
   "id": "4a6da2bc",
   "metadata": {},
   "source": [
    "For this exercise I'm assuming we provide a standard small data set, and an out of the box classifier.  So the exercise focuses on wrapping the classifier so that it takes stdin and outputs to stdout.  It can then be put in a command line to classify files in a directory."
   ]
  },
  {
   "cell_type": "code",
   "execution_count": null,
   "id": "cf045239",
   "metadata": {},
   "outputs": [],
   "source": [
    "ls <path to directory>/*.txt | xargs myclassifier | sort -nr"
   ]
  },
  {
   "cell_type": "markdown",
   "id": "8397a9a7",
   "metadata": {},
   "source": [
    "## Solution command line"
   ]
  },
  {
   "cell_type": "code",
   "execution_count": 3,
   "id": "5cc4fd77-9c4d-430f-a4fa-b5bd85f2c110",
   "metadata": {},
   "outputs": [
    {
     "name": "stdout",
     "output_type": "stream",
     "text": [
      "9.98165508363186e-05\tdata/easy_ham/0520.db2ae930623e1db4c9cf60676f96c4e5\n",
      "9.98165508363186e-05\tdata/easy_ham/0518.def6dfc3c2204dda12270b0ca97f0fc5\n",
      "9.98165508363186e-05\tdata/easy_ham/0512.17bff8553d7e8f6c668166afe149795b\n",
      "9.98165508363186e-05\tdata/easy_ham/0376.c0225fd19682f7ac58d090b6528af380\n",
      "9.98165508363186e-05\tdata/easy_ham/0375.54d0a570b81851127b73cebb8741a2df\n",
      "9.970924543172376e-05\tdata/hard_ham/0063.d84fa51cf5329f5e5b2f0c83b7ec94d0\n",
      "9.779274072534127e-09\tdata/easy_ham/0606.246043a69d2c710dde0e67eedb1fd853\n",
      "9.666849648689769e-06\tdata/easy_ham/0734.7dc0b0b5f6fb1977f0a146a44c4750aa\n",
      "9.666849648689769e-06\tdata/easy_ham/0731.59e8a707586a8b3cfe89bff4024dead7\n",
      "9.666849648689769e-06\tdata/easy_ham/0711.27203d4f43e71f7e1ced0cdd7f8685c8\n",
      "sort: Broken pipe\n"
     ]
    }
   ],
   "source": [
    "! find data/*/0* | python classifier.py 2> /dev/null | sort -rn | head -n 10"
   ]
  }
 ],
 "metadata": {
  "kernelspec": {
   "display_name": "Python 3 (ipykernel)",
   "language": "python",
   "name": "python3"
  },
  "language_info": {
   "codemirror_mode": {
    "name": "ipython",
    "version": 3
   },
   "file_extension": ".py",
   "mimetype": "text/x-python",
   "name": "python",
   "nbconvert_exporter": "python",
   "pygments_lexer": "ipython3",
   "version": "3.7.7"
  }
 },
 "nbformat": 4,
 "nbformat_minor": 5
}
