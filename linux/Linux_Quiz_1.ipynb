{
 "cells": [
  {
   "cell_type": "markdown",
   "id": "b84d3807",
   "metadata": {},
   "source": [
    "# Linux Quiz 1"
   ]
  },
  {
   "cell_type": "markdown",
   "id": "7cc803f5",
   "metadata": {},
   "source": [
    "# 1. You wrote a useful script you want to adapt for a new purpose.  You copy it with a new name.  After some editing, you want to quickly check what lines you've edited and which you might have removed.  What command helps you do this?\n",
    "\n",
    "* a) `cat firstfile | grep -v secondfile`\n",
    "* b) `compare firstfile secondfile`\n",
    "* c) `cat firstfile secondfile | sort -u`\n",
    "* d) `diff firstfile secondfile` or `sdiff firstfile secondfile`\n",
    "\n",
    "##### The correct answer is d.  Both diff and sdiff will work.  Diff by using > or < to indicate replacements, and sdiff by providing a side by side comparison.  Although, there are more powerful ways and programs to do a compare, linux has a large repertoire of commands that allow you to do most common file actions *in place* without breaking your context."
   ]
  },
  {
   "cell_type": "markdown",
   "id": "a28c7f55",
   "metadata": {},
   "source": [
    "# 2. Given the classic Iris dataset, which of these commands print out all the lines with either `setosa` or `virginica` to the console.\n",
    "\n",
    "`iris.data`\n",
    "```\n",
    "5.1,3.5,1.4,0.2,Iris-setosa\n",
    "4.9,3.0,1.4,0.2,Iris-setosa\n",
    "4.7,3.2,1.3,0.2,Iris-setosa\n",
    "7.0,3.2,4.7,1.4,Iris-versicolor\n",
    "6.4,3.2,4.5,1.5,Iris-versicolor\n",
    "6.9,3.1,4.9,1.5,Iris-versicolor\n",
    "6.3,3.3,6.0,2.5,Iris-virginica\n",
    "5.8,2.7,5.1,1.9,Iris-virginica\n",
    "7.1,3.0,5.9,2.1,Iris-virginica\n",
    "```\n",
    "\n",
    "* a) cat iris.data | grep setosa && virginica\n",
    "* b) cat iris.data | grep -v versicolor\n",
    "* c) cat iris.data | grep -E \"setosa|virginica\"\n",
    "* e) * b, c\n",
    "\n",
    "##### The correct answer is e.  Two of the most useful flags for grep are `-v` to *exclude* matching lines, and `-E` which allows you to use regualar epression syntax, in this case the `|` allows you to match both setosa or virginica.  Note the `\"` around the regex expression though."
   ]
  },
  {
   "cell_type": "markdown",
   "id": "55647cee",
   "metadata": {},
   "source": [
    "# 3. What command line feature helps you reduce typing errors while typing filenames, paths and commands?\n",
    "\n",
    "* a) `man <command>`\n",
    "* b) * Using the tab key as often as possible\n",
    "* c) Execute `ls` before typing a file name so you can see how it's spelled\n",
    "* d) Linux only allows alphanumeric characters in order to keep names `simple`\n",
    "\n",
    "##### The correct answer is b.  `<Tab>` invokes the autocomplete feature.  Leverage this feature by typing out `just enough` of a long filename, path or command and rely on `<tab>` to do the rest for you!  You'll gain speed in typing and also by reducing errors."
   ]
  },
  {
   "cell_type": "markdown",
   "id": "f0764cfa",
   "metadata": {},
   "source": [
    "# 4. You are deep in a directory structure, and you switch to a different directory typing in a full path, i.e. `cd /path/to/other/nested/folder`?  What is the most efficient way to return to the previous nested folder *without* typing it's path, i.e. not by `cd /path/to/previous/nested/path`?\n",
    "* a) cd\n",
    "* b) * cd -\n",
    "* c) cd .\n",
    "* d) cd ../../../../\n",
    "\n",
    "##### Answer is b, `-` takes you back to the directory you were just in.  The use case of working in two directories moving or comparing files comes up often enough to warrant remembering this shortcut.  "
   ]
  },
  {
   "cell_type": "markdown",
   "id": "cbf5233b",
   "metadata": {},
   "source": [
    "# 5. The command `python myscript` tells the command line two things: 1. myscript.py is an executable and 2. it is executed by the python.  What two steps can you take so you can simply run the script simply by invoking the file i.e. `./filename` or `path/to/filename` ?\n",
    "\n",
    "* a) `chmod +x myscript` and `mv myscript myscript.py`\n",
    "* b) * `chmod +x myscript` and add `#!/usr/bin/env python` as the first line of the script\n",
    "* c) `mv myscript myscript.py` and add `#!/usr/bin/env python` as the first line of the script\n",
    "* d) all of the above\n",
    "\n",
    "##### The correct answer is b.  Linux needs to know that the file is executable and the shebang line `#!...` is a special feature that tells linux what language or application to call to execute it.  "
   ]
  },
  {
   "cell_type": "markdown",
   "id": "cae64d8c",
   "metadata": {},
   "source": [
    "# 6. You run a python3 script via `python myscript` and get unexpected syntax errors that look like it's running python2.  What commands are useful to help you debug the problem?\n",
    "* a) which python\n",
    "* b) ls -la myscript\n",
    "* c) whoami\n",
    "* d) * python --version\n",
    "\n",
    "##### The correct answer is d.  It is a common issue that a model is built and trained on a particular version of python but executed in a production version that is missing advanced features.  "
   ]
  },
  {
   "cell_type": "markdown",
   "id": "f008ad83",
   "metadata": {},
   "source": [
    "# 7. You are on a shared jupyter server, a machine where multiple users have a Jupyter notebook interface and your scripts are running 4 times slower than usual.  Which commands would be useful to check if there are other users with notebooks active?\n",
    "\n",
    "* a) `ps aux | grep jupyter`\n",
    "* b) `cat /etc/sudoers`\n",
    "* c) You can't unless you have admin priviliges\n",
    "* d) `cat /etc/hosts`\n",
    "\n",
    "##### The correct answer is a.  The ps utility is very useful for debugging resourse usage.  You can grep by program name, as well as user name for example.  The output also contains memory allocation information so you can see if a particular user/notebook is taking up a lot of resources."
   ]
  },
  {
   "cell_type": "markdown",
   "id": "cc3ae474",
   "metadata": {},
   "source": [
    "# 8. What statements are true about bash and linux\n",
    "* a) * They are one and the same\n",
    "* b) * Linux is a `kernel` or operating system.\n",
    "* c) * Bash is a program that allows terminal access and has built in commands.\n",
    "* c) Bash is an operating system like windows, and linux is the most ubiquitious variation.\n",
    "* d) * Bash runs on linux"
   ]
  },
  {
   "cell_type": "markdown",
   "id": "5714fe29",
   "metadata": {},
   "source": [
    "# 9. You are running a program at the command line that takes an hour to complete.  You start the program and close the terminal and then reopen it in 5 minutes.  Which of the following are true?\n",
    "* a) If I reopen a terminal the program will still be running, the prompt will be busy and console output will still be flowing.\n",
    "* b) If I reopen a terminal, the prompt will be free, but program will be running in the background no longer able to print to the terminal, but still running.\n",
    "* c) * The program stopped executing when you closed the terminal and is no longer running\n",
    "* d) The program is still running, but in a different instance of the shell so for all intents and purposes it appears to have halted.\n",
    "\n",
    "##### The correct answer is c.  Unfortunately, the bash session running a program ends if you close the terminal, taking any executing scripts with it.  In order to run long running scripts you want to use a terminal multiplexer like tmux or screen, which runs in the background allowing your session to reattach to it long after you close the terminal."
   ]
  },
  {
   "cell_type": "markdown",
   "id": "1d527fec",
   "metadata": {},
   "source": [
    "# 10. What principle allows you to chain commands like `cat myfile | grep searchterm` or `ls | grep myfile*.py`?\n",
    "\n",
    "* a) All the bash and linux commands are part of the same program and thus interact with each other behind the command line.\n",
    "* b) The `|` is an operator that works to link the output from one command to another, but it only works on prebuilt bash and linux commands.\n",
    "* c) * Any command that can read from stdin and output to stdout can be used in a chain.  Operators like `|`, `>`, `>>` can then be used to `pipe` the commands together.\n",
    "* d) Piping is a standard feature of the `C` programming language with which the commands are built.\n",
    "\n",
    "##### The correct answer is c.  Any script or program that can read from stdin and output to stdout can be used in a pipe.  It can be written in bash, python, ruby or the language of your choice.  This means you can leverage the linux commands by writing your own pipeable scripts."
   ]
  }
 ],
 "metadata": {
  "kernelspec": {
   "display_name": "Python 3 (ipykernel)",
   "language": "python",
   "name": "python3"
  },
  "language_info": {
   "codemirror_mode": {
    "name": "ipython",
    "version": 3
   },
   "file_extension": ".py",
   "mimetype": "text/x-python",
   "name": "python",
   "nbconvert_exporter": "python",
   "pygments_lexer": "ipython3",
   "version": "3.7.7"
  }
 },
 "nbformat": 4,
 "nbformat_minor": 5
}
