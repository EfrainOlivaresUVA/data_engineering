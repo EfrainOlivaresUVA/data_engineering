{
 "cells": [
  {
   "cell_type": "markdown",
   "id": "b84d3807",
   "metadata": {},
   "source": [
    "# Linux Quiz 1"
   ]
  },
  {
   "cell_type": "markdown",
   "id": "7cc803f5",
   "metadata": {},
   "source": [
    "# 1. Execute `ls -la` at the command prompt.  What do the `.` and `..` represent?\n",
    "* a) They are used by the operating system and we can ignore them\n",
    "* b) * They are hard links to the present directory, `.`, and the parent directory, `..`\n",
    "* c) They are soft links to the present directory, `.`, and the parent directory, `..`\n",
    "* d) They are files containing information about the present directory, `.` and parent directory `..`"
   ]
  },
  {
   "cell_type": "markdown",
   "id": "a28c7f55",
   "metadata": {},
   "source": [
    "# 2. Given the classic Iris dataset, which of these commands print out all the lines with either `setosa` or `virginica` to the console.\n",
    "\n",
    "`iris.data`\n",
    "```\n",
    "5.1,3.5,1.4,0.2,Iris-setosa\n",
    "4.9,3.0,1.4,0.2,Iris-setosa\n",
    "4.7,3.2,1.3,0.2,Iris-setosa\n",
    "7.0,3.2,4.7,1.4,Iris-versicolor\n",
    "6.4,3.2,4.5,1.5,Iris-versicolor\n",
    "6.9,3.1,4.9,1.5,Iris-versicolor\n",
    "6.3,3.3,6.0,2.5,Iris-virginica\n",
    "5.8,2.7,5.1,1.9,Iris-virginica\n",
    "7.1,3.0,5.9,2.1,Iris-virginica\n",
    "```\n",
    "\n",
    "* a) cat iris.data | grep setosa && cat iris.data | grep virginica\n",
    "* b) cat iris.data | grep -v versicolor\n",
    "* c) cat iris.data | grep -E \"setosa|virginica\"\n",
    "* e) * b, c and d"
   ]
  },
  {
   "cell_type": "markdown",
   "id": "55647cee",
   "metadata": {},
   "source": [
    "# 3. You log onto a console starting at your home directory, and navigate 3 levels deep into a folder.  What's the most efficient way to get back to the home directory?\n",
    "* a) * cd\n",
    "* b) cd ..; cd ..; cd ..;\n",
    "* c) cd . && cd . && cd .\n",
    "* d) cd pwd"
   ]
  },
  {
   "cell_type": "markdown",
   "id": "f0764cfa",
   "metadata": {},
   "source": [
    "# 4. You are deep in a directory structure, and you switch to a different directory typing in a full path, i.e. `cd /path/to/other/nested/folder`?  What is the most efficient way to return to the previous nested folder *without* typing it's path, i.e. not by `cd /path/to/previous/nested/path`?\n",
    "* a) cd\n",
    "* b) * cd -\n",
    "* c) cd .\n",
    "* d) cd ../../../../"
   ]
  },
  {
   "cell_type": "markdown",
   "id": "cbf5233b",
   "metadata": {},
   "source": [
    "# 5. You write a python script named `myscript` and save the file to your current directory.  What sequence of steps can you take to execute your script, *without* any superflous steps?\n",
    "`myscript`\n",
    "```\n",
    "print(\"this is a script\")\n",
    "```\n",
    "\n",
    "* a) `chmod +x myscript; python myscript`\n",
    "* b) `chmod +x myscript; ./myscript`\n",
    "* c) `mv myscript myscript.py; ./myscript.py`\n",
    "* d) `python myscript`\n",
    "* e) add `#!/usr/bin/env python` to the top of the file and then `chmod +x myscript; ./myscript`\n",
    "* e) * d and e\n",
    "* f) a, b and d"
   ]
  },
  {
   "cell_type": "markdown",
   "id": "cae64d8c",
   "metadata": {},
   "source": [
    "# 6. You run a python3 script via `python myscript` and get unexpected syntax errors that look like it's running python2.  What commands are useful to help you debug the problem?\n",
    "* a) which python\n",
    "* b) ls -la myscript\n",
    "* c) whoami\n",
    "* d) * python --version"
   ]
  },
  {
   "cell_type": "markdown",
   "id": "f008ad83",
   "metadata": {},
   "source": [
    "# 7. Which of the following commands will list the files in the current directly which end with the `.py` extension.\n",
    "* a) `ls *.py`\n",
    "* b) `ls | grep .py`\n",
    "* c) `find . -type f -maxdepth 1 -name \"*.py\"`\n",
    "* d) * all of the above"
   ]
  },
  {
   "cell_type": "markdown",
   "id": "cc3ae474",
   "metadata": {},
   "source": [
    "# 8. What statements are true about bash and linux\n",
    "* a) * They are one and the same\n",
    "* b) * Linux is a `kernel` or operating system.\n",
    "* c) * Bash is a program that allows terminal access and has built in commands.\n",
    "* c) Bash is an operating system like windows, and linux is the most ubiquitious variation.\n",
    "* d) * Bash runs on linux"
   ]
  },
  {
   "cell_type": "markdown",
   "id": "5714fe29",
   "metadata": {},
   "source": [
    "# 9. You are running a program at the command line that takes an hour to complete.  You start the program and close the terminal and then reopen it in 5 minutes.  Which of the following are true?\n",
    "* a) If I reopen a terminal the program will still be running, the prompt will be busy and console output will still be flowing.\n",
    "* b) If I reopen a terminal, the prompt will be free, but program will be running in the background no longer able to print to the terminal, but still running.\n",
    "* c) * The program stopped executing when you closed the terminal and is no longer running\n",
    "* d) The program is still running, but in a different instance of the shell so for all intents and purposes it appears to have halted."
   ]
  },
  {
   "cell_type": "markdown",
   "id": "898423c0",
   "metadata": {},
   "source": [
    "# 10. You want to execute a long running program on a remote cloud server, but you're internet connection is spotty and you keep losing the command line.  Which of the following would help you set if off and return to it at a later time?\n",
    "* a) A second server in the same cloud that can control the terminal, known as a `relay`\n",
    "* b) * a terminal multiplexer\n",
    "* c) * tmux\n",
    "* d) vim\n",
    "* e) * screen\n",
    "* f) A browser based connection like jupyter's lab's terminal"
   ]
  },
  {
   "cell_type": "markdown",
   "id": "1d527fec",
   "metadata": {},
   "source": [
    "# 11. Running commands in chains\n",
    "* How do you run 3 commands (`command1, command2, command3`) in series, and insure they all run regardles if any of them fail?  (`command1 || command2 || command3`)\n",
    "* How would run them if you want them to stop after the first failed command? (`command1 && command2 && command3`)\n",
    "* What is being passed along is a return value of the script.  How would you inspect the return value of the *last run command* ?  (`echo $0`)"
   ]
  }
 ],
 "metadata": {
  "kernelspec": {
   "display_name": "Python 3",
   "language": "python",
   "name": "python3"
  },
  "language_info": {
   "codemirror_mode": {
    "name": "ipython",
    "version": 3
   },
   "file_extension": ".py",
   "mimetype": "text/x-python",
   "name": "python",
   "nbconvert_exporter": "python",
   "pygments_lexer": "ipython3",
   "version": "3.7.7"
  }
 },
 "nbformat": 4,
 "nbformat_minor": 5
}
